{
 "cells": [
  {
   "cell_type": "code",
   "execution_count": 1,
   "metadata": {},
   "outputs": [],
   "source": [
    "from langchain.llms import OpenAI"
   ]
  },
  {
   "cell_type": "code",
   "execution_count": 6,
   "metadata": {},
   "outputs": [],
   "source": [
    "import os\n",
    "from constants import OPENAI_API_KEY, HUGGINGFACEHUB_API_TOKEN\n",
    "\n",
    "os.environ['OPEN_API_KEY'] = OPENAI_API_KEY\n",
    "\n",
    "os.environ['HUGGINGFACEHUB_API_TOKEN'] = HUGGINGFACEHUB_API_TOKEN\n"
   ]
  },
  {
   "cell_type": "code",
   "execution_count": 7,
   "metadata": {},
   "outputs": [],
   "source": [
    "llm = OpenAI(openai_api_key = os.environ['OPEN_API_KEY'], temperature = 0.6)"
   ]
  },
  {
   "cell_type": "code",
   "execution_count": 8,
   "metadata": {},
   "outputs": [
    {
     "name": "stdout",
     "output_type": "stream",
     "text": [
      "\n",
      "\n",
      "The capital of India is New Delhi.\n"
     ]
    }
   ],
   "source": [
    "text = \"What is the capital of India\"\n",
    "\n",
    "print(llm.predict(text))"
   ]
  },
  {
   "cell_type": "code",
   "execution_count": 9,
   "metadata": {},
   "outputs": [
    {
     "name": "stderr",
     "output_type": "stream",
     "text": [
      "D:\\Anaconda3\\lib\\site-packages\\huggingface_hub\\utils\\_deprecation.py:131: FutureWarning: 'InferenceApi' (from 'huggingface_hub.inference_api') is deprecated and will be removed from version '1.0'. `InferenceApi` client is deprecated in favor of the more feature-complete `InferenceClient`. Check out this guide to learn how to convert your script to use it: https://huggingface.co/docs/huggingface_hub/guides/inference#legacy-inferenceapi-client.\n",
      "  warnings.warn(warning_message, FutureWarning)\n"
     ]
    }
   ],
   "source": [
    "from langchain import HuggingFaceHub\n",
    "llm_hf = HuggingFaceHub(repo_id= \"google/flan-t5-base\", model_kwargs = {\"temperature\": 0, \"max_length\": 64})"
   ]
  },
  {
   "cell_type": "code",
   "execution_count": 10,
   "metadata": {},
   "outputs": [
    {
     "name": "stdout",
     "output_type": "stream",
     "text": [
      "i love you i love you i love you i love you i love you i love you i love you i love you i love you i love you i love you i love you i love you i love you i love you i love\n"
     ]
    }
   ],
   "source": [
    "output = llm_hf.predict(\"Can you write a poem for me?\")\n",
    "print(output)"
   ]
  },
  {
   "cell_type": "code",
   "execution_count": 11,
   "metadata": {},
   "outputs": [
    {
     "data": {
      "text/plain": [
       "\"\\nSure, here is a poem for you:\\n\\nIn this world of chaos and strife,\\nAmidst the struggles and the pain,\\nI find solace in the written word,\\nIn the beauty of poetry's refrain.\\n\\nWith every verse, I am transported,\\nTo a world of my own creation,\\nWhere I can escape reality,\\nAnd find my own salvation.\\n\\nEach word a brushstroke on a canvas,\\nPainting a picture of emotions,\\nFrom love and joy to sorrow and despair,\\nPoetry captures all notions.\\n\\nIt speaks of love in its purest form,\\nOf heartbreak and longing too,\\nIt delves into the depths of the soul,\\nAnd brings out feelings anew.\\n\\nIn rhythm and rhyme, it flows,\\nLike a melody to the ears,\\nEnchanting and captivating,\\nIt can bring even the toughest to tears.\\n\\nSo here's a poem for you my dear,\\nA gift from my heart to yours,\\nMay it bring you comfort and joy,\\nAnd open new poetic doors.\\n\\nFor in this world of chaos and strife,\\nPoetry can be a guiding light,\\nA source of hope and inspiration,\\nIn the darkest of nights.\""
      ]
     },
     "execution_count": 11,
     "metadata": {},
     "output_type": "execute_result"
    }
   ],
   "source": [
    "llm.predict(\"Can you write a poem for me?\")"
   ]
  },
  {
   "cell_type": "markdown",
   "metadata": {},
   "source": [
    "Prompt Templates"
   ]
  },
  {
   "cell_type": "code",
   "execution_count": 13,
   "metadata": {},
   "outputs": [
    {
     "data": {
      "text/plain": [
       "'Tell me the capital of India'"
      ]
     },
     "execution_count": 13,
     "metadata": {},
     "output_type": "execute_result"
    }
   ],
   "source": [
    "from langchain.prompts import PromptTemplate\n",
    "promptTemplate = PromptTemplate(\n",
    "    input_variables=['country'],\n",
    "    template = \"Tell me the capital of {country}\"\n",
    ")\n",
    "\n",
    "promptTemplate.format(country = \"India\")"
   ]
  },
  {
   "cell_type": "code",
   "execution_count": 15,
   "metadata": {},
   "outputs": [],
   "source": [
    "from langchain.chains import LLMChain"
   ]
  },
  {
   "cell_type": "code",
   "execution_count": 16,
   "metadata": {},
   "outputs": [],
   "source": [
    "chain = LLMChain(llm = llm, prompt = promptTemplate)"
   ]
  },
  {
   "cell_type": "code",
   "execution_count": 17,
   "metadata": {},
   "outputs": [
    {
     "name": "stderr",
     "output_type": "stream",
     "text": [
      "D:\\Anaconda3\\lib\\site-packages\\langchain_core\\_api\\deprecation.py:117: LangChainDeprecationWarning: The function `run` was deprecated in LangChain 0.1.0 and will be removed in 0.2.0. Use invoke instead.\n",
      "  warn_deprecated(\n"
     ]
    },
    {
     "data": {
      "text/plain": [
       "'\\n\\nThe capital of India is New Delhi.'"
      ]
     },
     "execution_count": 17,
     "metadata": {},
     "output_type": "execute_result"
    }
   ],
   "source": [
    "chain.run('India')"
   ]
  },
  {
   "cell_type": "markdown",
   "metadata": {},
   "source": [
    "Combining Multiple Chains Using Simple Sequential Chain"
   ]
  },
  {
   "cell_type": "code",
   "execution_count": 20,
   "metadata": {},
   "outputs": [],
   "source": [
    "capital_template = PromptTemplate(\n",
    "    input_variables = ['country'],\n",
    "    template = \"Please tell me the capital of {country}\"\n",
    "    )\n",
    "capital_chain = LLMChain(llm = llm, prompt = capital_template)\n",
    "\n",
    "famous_template = PromptTemplate(\n",
    "    input_variables = ['capital'],\n",
    "    template = \"Suggest some places to visit in {capital}\"\n",
    ")\n",
    "\n",
    "famous_chain = LLMChain(llm = llm, prompt = famous_template)"
   ]
  },
  {
   "cell_type": "code",
   "execution_count": 21,
   "metadata": {},
   "outputs": [],
   "source": [
    "from langchain.chains import SimpleSequentialChain"
   ]
  },
  {
   "cell_type": "code",
   "execution_count": 22,
   "metadata": {},
   "outputs": [
    {
     "data": {
      "text/plain": [
       "\" Here are some places you can visit in and around New Delhi:\\n\\n1. Red Fort: A historic fort complex built in the 17th century, it is a UNESCO World Heritage Site and a must-visit for history buffs.\\n\\n2. Qutub Minar: This 73-meter tall tower is also a UNESCO World Heritage Site and is a great example of Indo-Islamic architecture.\\n\\n3. India Gate: A popular landmark in New Delhi, this war memorial is a tribute to the soldiers who died in World War I and the Third Anglo-Afghan War.\\n\\n4. Lotus Temple: This beautiful temple is shaped like a lotus flower and is a symbol of peace and unity.\\n\\n5. Humayun's Tomb: Another UNESCO World Heritage Site, this tomb is the final resting place of Mughal Emperor Humayun and is known for its stunning architecture and gardens.\\n\\n6. Akshardham Temple: This modern Hindu temple is a popular tourist attraction for its grand architecture, intricate carvings, and cultural exhibitions.\\n\\n7. Chandni Chowk: One of the oldest and busiest markets in Delhi, it is a great place to experience the vibrant culture and try some delicious street food.\\n\\n8. Connaught Place: A bustling commercial and shopping district,\""
      ]
     },
     "execution_count": 22,
     "metadata": {},
     "output_type": "execute_result"
    }
   ],
   "source": [
    "chain = SimpleSequentialChain(chains = [capital_chain, famous_chain])\n",
    "chain.run(\"India\")"
   ]
  },
  {
   "cell_type": "markdown",
   "metadata": {},
   "source": [
    "## Sequential Chain"
   ]
  },
  {
   "cell_type": "code",
   "execution_count": null,
   "metadata": {},
   "outputs": [],
   "source": [
    "capital_template = PromptTemplate(\n",
    "    input_variables = ['country'],\n",
    "    template = \"Please tell me the capital of {country}\"\n",
    "    )\n",
    "capital_chain = LLMChain(llm = llm, prompt = capital_template, output_key = 'capital')\n",
    "\n",
    "famous_template = PromptTemplate(\n",
    "    input_variables = ['capital'],\n",
    "    template = \"Suggest some places to visit in {capital}\"\n",
    ")\n",
    "\n",
    "places_chain = LLMChain(llm = llm, prompt = famous_template, output_key = 'places')"
   ]
  }
 ],
 "metadata": {
  "kernelspec": {
   "display_name": "Python 3",
   "language": "python",
   "name": "python3"
  },
  "language_info": {
   "codemirror_mode": {
    "name": "ipython",
    "version": 3
   },
   "file_extension": ".py",
   "mimetype": "text/x-python",
   "name": "python",
   "nbconvert_exporter": "python",
   "pygments_lexer": "ipython3",
   "version": "3.8.8"
  }
 },
 "nbformat": 4,
 "nbformat_minor": 2
}
